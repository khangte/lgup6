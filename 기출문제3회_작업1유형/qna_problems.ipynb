{
 "cells": [
  {
   "cell_type": "markdown",
   "metadata": {},
   "source": [
    ">**기출문제 제3회**\n",
    ">>**01 작업형 제1유형**"
   ]
  },
  {
   "cell_type": "markdown",
   "metadata": {},
   "source": [
    "## 옵션 설정"
   ]
  },
  {
   "cell_type": "code",
   "execution_count": 1,
   "metadata": {},
   "outputs": [],
   "source": [
    "import pandas as pd\n",
    "import numpy as np\n",
    "pd.set_option('display.max_columns', None) # 모든 칼럼이 출력되게 조절"
   ]
  },
  {
   "cell_type": "code",
   "execution_count": 2,
   "metadata": {},
   "outputs": [
    {
     "data": {
      "text/html": [
       "<div>\n",
       "<style scoped>\n",
       "    .dataframe tbody tr th:only-of-type {\n",
       "        vertical-align: middle;\n",
       "    }\n",
       "\n",
       "    .dataframe tbody tr th {\n",
       "        vertical-align: top;\n",
       "    }\n",
       "\n",
       "    .dataframe thead th {\n",
       "        text-align: right;\n",
       "    }\n",
       "</style>\n",
       "<table border=\"1\" class=\"dataframe\">\n",
       "  <thead>\n",
       "    <tr style=\"text-align: right;\">\n",
       "      <th></th>\n",
       "      <th>city</th>\n",
       "      <th>homeType</th>\n",
       "      <th>latitude</th>\n",
       "      <th>longitude</th>\n",
       "      <th>garageSpaces</th>\n",
       "      <th>hasSpa</th>\n",
       "      <th>yearBuilt</th>\n",
       "      <th>numOfPatioAndPorchFeatures</th>\n",
       "      <th>lotSizeSqFt</th>\n",
       "      <th>avgSchoolRating</th>\n",
       "      <th>MedianStudentsPerTeacher</th>\n",
       "      <th>numOfBathrooms</th>\n",
       "      <th>numOfBedrooms</th>\n",
       "      <th>priceRange</th>\n",
       "    </tr>\n",
       "  </thead>\n",
       "  <tbody>\n",
       "    <tr>\n",
       "      <th>0</th>\n",
       "      <td>austin</td>\n",
       "      <td>Single Family</td>\n",
       "      <td>30.197647</td>\n",
       "      <td>-97.816811</td>\n",
       "      <td>2</td>\n",
       "      <td>False</td>\n",
       "      <td>1981</td>\n",
       "      <td>0</td>\n",
       "      <td>9757.0</td>\n",
       "      <td>4.000000</td>\n",
       "      <td>13</td>\n",
       "      <td>NaN</td>\n",
       "      <td>3</td>\n",
       "      <td>350000-450000</td>\n",
       "    </tr>\n",
       "    <tr>\n",
       "      <th>1</th>\n",
       "      <td>austin</td>\n",
       "      <td>Single Family</td>\n",
       "      <td>30.329187</td>\n",
       "      <td>-97.752731</td>\n",
       "      <td>2</td>\n",
       "      <td>False</td>\n",
       "      <td>1951</td>\n",
       "      <td>0</td>\n",
       "      <td>10846.0</td>\n",
       "      <td>7.000000</td>\n",
       "      <td>16</td>\n",
       "      <td>NaN</td>\n",
       "      <td>4</td>\n",
       "      <td>650000+</td>\n",
       "    </tr>\n",
       "    <tr>\n",
       "      <th>2</th>\n",
       "      <td>austin</td>\n",
       "      <td>Single Family</td>\n",
       "      <td>30.313305</td>\n",
       "      <td>-97.699669</td>\n",
       "      <td>0</td>\n",
       "      <td>False</td>\n",
       "      <td>1954</td>\n",
       "      <td>0</td>\n",
       "      <td>9016.0</td>\n",
       "      <td>5.000000</td>\n",
       "      <td>15</td>\n",
       "      <td>NaN</td>\n",
       "      <td>3</td>\n",
       "      <td>350000-450000</td>\n",
       "    </tr>\n",
       "    <tr>\n",
       "      <th>3</th>\n",
       "      <td>austin</td>\n",
       "      <td>Single Family</td>\n",
       "      <td>30.156321</td>\n",
       "      <td>-97.748291</td>\n",
       "      <td>2</td>\n",
       "      <td>False</td>\n",
       "      <td>2008</td>\n",
       "      <td>0</td>\n",
       "      <td>5662.0</td>\n",
       "      <td>5.333333</td>\n",
       "      <td>15</td>\n",
       "      <td>NaN</td>\n",
       "      <td>3</td>\n",
       "      <td>0-250000</td>\n",
       "    </tr>\n",
       "    <tr>\n",
       "      <th>4</th>\n",
       "      <td>austin</td>\n",
       "      <td>Townhouse</td>\n",
       "      <td>30.366995</td>\n",
       "      <td>-97.753548</td>\n",
       "      <td>2</td>\n",
       "      <td>False</td>\n",
       "      <td>1984</td>\n",
       "      <td>0</td>\n",
       "      <td>3049.0</td>\n",
       "      <td>7.000000</td>\n",
       "      <td>16</td>\n",
       "      <td>NaN</td>\n",
       "      <td>2</td>\n",
       "      <td>350000-450000</td>\n",
       "    </tr>\n",
       "    <tr>\n",
       "      <th>...</th>\n",
       "      <td>...</td>\n",
       "      <td>...</td>\n",
       "      <td>...</td>\n",
       "      <td>...</td>\n",
       "      <td>...</td>\n",
       "      <td>...</td>\n",
       "      <td>...</td>\n",
       "      <td>...</td>\n",
       "      <td>...</td>\n",
       "      <td>...</td>\n",
       "      <td>...</td>\n",
       "      <td>...</td>\n",
       "      <td>...</td>\n",
       "      <td>...</td>\n",
       "    </tr>\n",
       "    <tr>\n",
       "      <th>495</th>\n",
       "      <td>austin</td>\n",
       "      <td>Single Family</td>\n",
       "      <td>30.287403</td>\n",
       "      <td>-97.712151</td>\n",
       "      <td>0</td>\n",
       "      <td>False</td>\n",
       "      <td>1966</td>\n",
       "      <td>0</td>\n",
       "      <td>7797.0</td>\n",
       "      <td>6.666667</td>\n",
       "      <td>15</td>\n",
       "      <td>1.0</td>\n",
       "      <td>3</td>\n",
       "      <td>350000-450000</td>\n",
       "    </tr>\n",
       "    <tr>\n",
       "      <th>496</th>\n",
       "      <td>austin</td>\n",
       "      <td>Single Family</td>\n",
       "      <td>30.299253</td>\n",
       "      <td>-97.778496</td>\n",
       "      <td>0</td>\n",
       "      <td>False</td>\n",
       "      <td>2016</td>\n",
       "      <td>0</td>\n",
       "      <td>6011.0</td>\n",
       "      <td>7.000000</td>\n",
       "      <td>16</td>\n",
       "      <td>4.0</td>\n",
       "      <td>4</td>\n",
       "      <td>650000+</td>\n",
       "    </tr>\n",
       "    <tr>\n",
       "      <th>497</th>\n",
       "      <td>austin</td>\n",
       "      <td>Single Family</td>\n",
       "      <td>30.202967</td>\n",
       "      <td>-97.970039</td>\n",
       "      <td>0</td>\n",
       "      <td>False</td>\n",
       "      <td>2018</td>\n",
       "      <td>1</td>\n",
       "      <td>8712.0</td>\n",
       "      <td>7.000000</td>\n",
       "      <td>16</td>\n",
       "      <td>3.0</td>\n",
       "      <td>4</td>\n",
       "      <td>350000-450000</td>\n",
       "    </tr>\n",
       "    <tr>\n",
       "      <th>498</th>\n",
       "      <td>austin</td>\n",
       "      <td>Single Family</td>\n",
       "      <td>30.173611</td>\n",
       "      <td>-97.912315</td>\n",
       "      <td>0</td>\n",
       "      <td>False</td>\n",
       "      <td>2015</td>\n",
       "      <td>0</td>\n",
       "      <td>6621.0</td>\n",
       "      <td>9.000000</td>\n",
       "      <td>18</td>\n",
       "      <td>2.0</td>\n",
       "      <td>3</td>\n",
       "      <td>350000-450000</td>\n",
       "    </tr>\n",
       "    <tr>\n",
       "      <th>499</th>\n",
       "      <td>austin</td>\n",
       "      <td>Single Family</td>\n",
       "      <td>30.222721</td>\n",
       "      <td>-97.861969</td>\n",
       "      <td>0</td>\n",
       "      <td>False</td>\n",
       "      <td>1979</td>\n",
       "      <td>0</td>\n",
       "      <td>8624.0</td>\n",
       "      <td>6.000000</td>\n",
       "      <td>17</td>\n",
       "      <td>2.0</td>\n",
       "      <td>3</td>\n",
       "      <td>0-250000</td>\n",
       "    </tr>\n",
       "  </tbody>\n",
       "</table>\n",
       "<p>500 rows × 14 columns</p>\n",
       "</div>"
      ],
      "text/plain": [
       "       city       homeType   latitude  longitude  garageSpaces  hasSpa  \\\n",
       "0    austin  Single Family  30.197647 -97.816811             2   False   \n",
       "1    austin  Single Family  30.329187 -97.752731             2   False   \n",
       "2    austin  Single Family  30.313305 -97.699669             0   False   \n",
       "3    austin  Single Family  30.156321 -97.748291             2   False   \n",
       "4    austin      Townhouse  30.366995 -97.753548             2   False   \n",
       "..      ...            ...        ...        ...           ...     ...   \n",
       "495  austin  Single Family  30.287403 -97.712151             0   False   \n",
       "496  austin  Single Family  30.299253 -97.778496             0   False   \n",
       "497  austin  Single Family  30.202967 -97.970039             0   False   \n",
       "498  austin  Single Family  30.173611 -97.912315             0   False   \n",
       "499  austin  Single Family  30.222721 -97.861969             0   False   \n",
       "\n",
       "     yearBuilt  numOfPatioAndPorchFeatures  lotSizeSqFt  avgSchoolRating  \\\n",
       "0         1981                           0       9757.0         4.000000   \n",
       "1         1951                           0      10846.0         7.000000   \n",
       "2         1954                           0       9016.0         5.000000   \n",
       "3         2008                           0       5662.0         5.333333   \n",
       "4         1984                           0       3049.0         7.000000   \n",
       "..         ...                         ...          ...              ...   \n",
       "495       1966                           0       7797.0         6.666667   \n",
       "496       2016                           0       6011.0         7.000000   \n",
       "497       2018                           1       8712.0         7.000000   \n",
       "498       2015                           0       6621.0         9.000000   \n",
       "499       1979                           0       8624.0         6.000000   \n",
       "\n",
       "     MedianStudentsPerTeacher  numOfBathrooms  numOfBedrooms     priceRange  \n",
       "0                          13             NaN              3  350000-450000  \n",
       "1                          16             NaN              4        650000+  \n",
       "2                          15             NaN              3  350000-450000  \n",
       "3                          15             NaN              3       0-250000  \n",
       "4                          16             NaN              2  350000-450000  \n",
       "..                        ...             ...            ...            ...  \n",
       "495                        15             1.0              3  350000-450000  \n",
       "496                        16             4.0              4        650000+  \n",
       "497                        16             3.0              4  350000-450000  \n",
       "498                        18             2.0              3  350000-450000  \n",
       "499                        17             2.0              3       0-250000  \n",
       "\n",
       "[500 rows x 14 columns]"
      ]
     },
     "execution_count": 2,
     "metadata": {},
     "output_type": "execute_result"
    }
   ],
   "source": [
    "import pandas as pd \n",
    "\n",
    "data = pd.read_csv('3_1.csv')\n",
    "data"
   ]
  },
  {
   "cell_type": "markdown",
   "metadata": {},
   "source": [
    "## 문제 1. \n",
    "- 다음 데이터에서 lotSizeSqFt이 큰 top 10을 구하고, top 10 값 중 가장 작은 값으로 해당 값을 대치하시오. \n",
    "- 또한, 건축 연도(yearBuilt)가 2000년도 이상인 IoTSizeSqFt의 평균을 구하시오.\n",
    "- 소수점 첫째 자리에서 반올림, 대치된 IoTSizeSqFt 기준\n"
   ]
  },
  {
   "cell_type": "code",
   "execution_count": 3,
   "metadata": {},
   "outputs": [
    {
     "data": {
      "text/plain": [
       "265    71438.4\n",
       "399    71438.4\n",
       "68     71438.4\n",
       "175    71438.4\n",
       "412    71438.4\n",
       "97     71438.4\n",
       "480    71438.4\n",
       "440    71438.4\n",
       "6      71438.4\n",
       "71     71438.4\n",
       "Name: lotSizeSqFt, dtype: float64"
      ]
     },
     "execution_count": 3,
     "metadata": {},
     "output_type": "execute_result"
    }
   ],
   "source": [
    "# 코드 작성\n",
    "lssqft_top10_data = data['lotSizeSqFt'].sort_values(ascending=False).head(10)\n",
    "min_lssqft = float(lssqft_top10_data.min())\n",
    "data.loc[data['lotSizeSqFt'] > min_lssqft, 'lotSizeSqFt'] = min_lssqft\n",
    "data['lotSizeSqFt'].sort_values(ascending=False).head(10)"
   ]
  },
  {
   "cell_type": "code",
   "execution_count": 4,
   "metadata": {},
   "outputs": [
    {
     "name": "stdout",
     "output_type": "stream",
     "text": [
      "12955\n"
     ]
    }
   ],
   "source": [
    "# 코드 작성\n",
    "print(round(data.loc[data['yearBuilt'] >= 2000]['lotSizeSqFt'].mean()))"
   ]
  },
  {
   "cell_type": "markdown",
   "metadata": {},
   "source": [
    "## 문제 2. \n",
    "- 컬럼별 결측치 존재 여부를 확인하고, 결측치가 존재하는 경우 해당 컬럼의 중앙값으로 결측치를 대치하시오. \n",
    "- 결측치 대신 전과 후 표준편차 차이의 절댓값을 구하시오. \n",
    "- 소수점 둘째 자리까지 반올림\n"
   ]
  },
  {
   "cell_type": "code",
   "execution_count": 5,
   "metadata": {},
   "outputs": [],
   "source": [
    "data2 = data.copy()"
   ]
  },
  {
   "cell_type": "code",
   "execution_count": 6,
   "metadata": {},
   "outputs": [
    {
     "data": {
      "text/plain": [
       "city                           0\n",
       "homeType                       0\n",
       "latitude                       0\n",
       "longitude                      0\n",
       "garageSpaces                   0\n",
       "hasSpa                         0\n",
       "yearBuilt                      0\n",
       "numOfPatioAndPorchFeatures     0\n",
       "lotSizeSqFt                    0\n",
       "avgSchoolRating                0\n",
       "MedianStudentsPerTeacher       0\n",
       "numOfBathrooms                11\n",
       "numOfBedrooms                  0\n",
       "priceRange                     0\n",
       "dtype: int64"
      ]
     },
     "execution_count": 6,
     "metadata": {},
     "output_type": "execute_result"
    }
   ],
   "source": [
    "# 코드 작성\n",
    "data2.isnull().sum()"
   ]
  },
  {
   "cell_type": "code",
   "execution_count": 7,
   "metadata": {},
   "outputs": [
    {
     "data": {
      "text/plain": [
       "['numOfBathrooms']"
      ]
     },
     "execution_count": 7,
     "metadata": {},
     "output_type": "execute_result"
    }
   ],
   "source": [
    "col_with_null = data2.columns[data2.isnull().any()].tolist()\n",
    "col_with_null"
   ]
  },
  {
   "cell_type": "code",
   "execution_count": 17,
   "metadata": {},
   "outputs": [
    {
     "name": "stdout",
     "output_type": "stream",
     "text": [
      "numOfBathrooms    0.989337\n",
      "dtype: float64\n"
     ]
    }
   ],
   "source": [
    "std_before = data2.loc[:, col_with_null].std()\n",
    "print(std_before)"
   ]
  },
  {
   "cell_type": "code",
   "execution_count": 24,
   "metadata": {},
   "outputs": [],
   "source": [
    "# 코드 작성\n",
    "# data_new = data2.fillna(data.loc[:, col_with_null].notnull().median())\n",
    "# 에러이유\n",
    "# data.loc[:, col_with_null].notnull() 은 True/False 값 시리즈가 되고,\n",
    "# .median() 은 결국 True/False의 중앙값(1.0)으로 계산된다.\n",
    "# -> 결측치를 1.0으로 채우는 문제 발생\n",
    "\n",
    "# 정답 코드\n",
    "median_value = data2[col_with_null].median()\n",
    "data_new = data2.copy()\n",
    "data_new[col_with_null] = \\\n",
    "    data_new[col_with_null].fillna(median_value)\n"
   ]
  },
  {
   "cell_type": "code",
   "execution_count": 26,
   "metadata": {},
   "outputs": [
    {
     "data": {
      "text/plain": [
       "numOfBathrooms    0.009786\n",
       "dtype: float64"
      ]
     },
     "execution_count": 26,
     "metadata": {},
     "output_type": "execute_result"
    }
   ],
   "source": [
    "std_after = data_new.loc[:, col_with_null].std()\n",
    "\n",
    "std_diff = abs(std_after - std_before)\n",
    "std_diff"
   ]
  },
  {
   "cell_type": "code",
   "execution_count": 28,
   "metadata": {},
   "outputs": [
    {
     "name": "stdout",
     "output_type": "stream",
     "text": [
      "표준 편차 차이의 절대값: \n",
      "0.01\n"
     ]
    }
   ],
   "source": [
    "# 코드 작성\n",
    "print(\"표준 편차 차이의 절대값: \")\n",
    "print(np.round(float(std_diff.iloc[0]), 2))"
   ]
  },
  {
   "cell_type": "markdown",
   "metadata": {},
   "source": [
    "## 문제 3. \n",
    "- 평균으로부터 1.5x 표준편차 범위 밖의 값을 이상치로 판단\n",
    "- MedianStudentsPerTeacher의 이상치를 구하고, 이상치의 개수를 구하시오. "
   ]
  },
  {
   "cell_type": "code",
   "execution_count": 10,
   "metadata": {},
   "outputs": [],
   "source": [
    "# 코드 작성\n",
    "\n"
   ]
  }
 ],
 "metadata": {
  "kernelspec": {
   "display_name": "Python 3 (ipykernel)",
   "language": "python",
   "name": "python3"
  },
  "language_info": {
   "codemirror_mode": {
    "name": "ipython",
    "version": 3
   },
   "file_extension": ".py",
   "mimetype": "text/x-python",
   "name": "python",
   "nbconvert_exporter": "python",
   "pygments_lexer": "ipython3",
   "version": "3.13.2"
  }
 },
 "nbformat": 4,
 "nbformat_minor": 4
}
